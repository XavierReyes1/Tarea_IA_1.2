{
  "nbformat": 4,
  "nbformat_minor": 0,
  "metadata": {
    "colab": {
      "provenance": []
    },
    "kernelspec": {
      "name": "python3",
      "display_name": "Python 3"
    },
    "language_info": {
      "name": "python"
    }
  },
  "cells": [
    {
      "cell_type": "code",
      "execution_count": 3,
      "metadata": {
        "colab": {
          "base_uri": "https://localhost:8080/"
        },
        "id": "gfDH4EnHSZkf",
        "outputId": "dac198f2-9e40-4fd1-90b0-4a48fcb002fb"
      },
      "outputs": [
        {
          "output_type": "stream",
          "name": "stdout",
          "text": [
            "<class 'pandas.core.frame.DataFrame'>\n",
            "RangeIndex: 50 entries, 0 to 49\n",
            "Data columns (total 3 columns):\n",
            " #   Column           Non-Null Count  Dtype \n",
            "---  ------           --------------  ----- \n",
            " 0   Producto         50 non-null     object\n",
            " 1   Cantidad         50 non-null     int64 \n",
            " 2   Precio_Unitario  50 non-null     int64 \n",
            "dtypes: int64(2), object(1)\n",
            "memory usage: 1.3+ KB\n"
          ]
        }
      ],
      "source": [
        "import pandas as pd\n",
        "\n",
        "#1. Cargue los datos en un DataFrame.\n",
        "df = pd.read_csv('ventas.csv')\n",
        "df.info()"
      ]
    },
    {
      "cell_type": "code",
      "source": [
        "#2.Calcule la cantidad total de productos vendidos por categoría\n",
        "Cantidad_total = df.groupby('Producto')['Cantidad'].sum()\n",
        "print(Cantidad_total)"
      ],
      "metadata": {
        "colab": {
          "base_uri": "https://localhost:8080/"
        },
        "id": "bIj5LmwVTA0O",
        "outputId": "244941ea-f83a-41ec-c987-68b570a9024f"
      },
      "execution_count": 5,
      "outputs": [
        {
          "output_type": "stream",
          "name": "stdout",
          "text": [
            "Producto\n",
            "Auriculares     53\n",
            "Impresora       65\n",
            "Laptop          49\n",
            "Monitor        113\n",
            "Mouse           55\n",
            "Silla Gamer     77\n",
            "Teclado         73\n",
            "Webcam          56\n",
            "Name: Cantidad, dtype: int64\n"
          ]
        }
      ]
    },
    {
      "cell_type": "code",
      "source": [
        "#3. Determine cuál es el producto con el mayor total de ventas\n",
        "Mayor_total = df.groupby('Producto')['Precio_Unitario'].sum().idxmax()\n",
        "print(Mayor_total)"
      ],
      "metadata": {
        "colab": {
          "base_uri": "https://localhost:8080/"
        },
        "id": "w57azM4rTVVd",
        "outputId": "7aed5c3e-7f15-4329-c5d5-9d633cc8fd15"
      },
      "execution_count": 10,
      "outputs": [
        {
          "output_type": "stream",
          "name": "stdout",
          "text": [
            "Monitor\n"
          ]
        }
      ]
    },
    {
      "cell_type": "code",
      "source": [
        "#Encuentre el precio promedio de los productos vendidos.\n",
        "Precio_promedio = df.groupby('Producto')['Precio_Unitario'].mean()\n",
        "print(Precio_promedio)"
      ],
      "metadata": {
        "colab": {
          "base_uri": "https://localhost:8080/"
        },
        "id": "RB2Wt-g4Tk4e",
        "outputId": "c66a5bf4-8902-4863-d59b-bce422c85ea6"
      },
      "execution_count": 12,
      "outputs": [
        {
          "output_type": "stream",
          "name": "stdout",
          "text": [
            "Producto\n",
            "Auriculares    437.500000\n",
            "Impresora      490.000000\n",
            "Laptop         771.333333\n",
            "Monitor        669.500000\n",
            "Mouse          354.000000\n",
            "Silla Gamer    480.500000\n",
            "Teclado        530.285714\n",
            "Webcam         340.000000\n",
            "Name: Precio_Unitario, dtype: float64\n"
          ]
        }
      ]
    }
  ]
}